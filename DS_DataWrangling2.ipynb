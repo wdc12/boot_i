{
 "cells": [
  {
   "cell_type": "code",
   "execution_count": 1,
   "id": "421fc943",
   "metadata": {},
   "outputs": [],
   "source": [
    "import pandas as pd\n",
    "import numpy as np\n",
    "import warnings\n",
    "warnings.filterwarnings('ignore')"
   ]
  },
  {
   "cell_type": "code",
   "execution_count": 2,
   "id": "a0aab388",
   "metadata": {},
   "outputs": [],
   "source": [
    "df = pd.read_csv(r\"C:\\Users\\patil\\OneDrive\\Desktop\\Siddhesh\\Third Year\\Practicals\\AcademicPerformance.csv\")"
   ]
  },
  {
   "cell_type": "code",
   "execution_count": 3,
   "id": "09af5772",
   "metadata": {},
   "outputs": [
    {
     "name": "stdout",
     "output_type": "stream",
     "text": [
      "      gender race/ethnicity parental level of education         lunch   \n",
      "0     female        group B           bachelor's degree      standard  \\\n",
      "1     female        group C                some college      standard   \n",
      "2     female        group B             master's degree      standard   \n",
      "3       male        group A          associate's degree  free/reduced   \n",
      "4       male        group C                some college      standard   \n",
      "...      ...            ...                         ...           ...   \n",
      "2235     NaN            NaN                         NaN           NaN   \n",
      "2236     NaN            NaN                         NaN           NaN   \n",
      "2237     NaN            NaN                         NaN           NaN   \n",
      "2238     NaN            NaN                         NaN           NaN   \n",
      "2239     NaN            NaN                         NaN           NaN   \n",
      "\n",
      "     test preparation course  Year_Birth  math score reading score   \n",
      "0                       none      1970.0        72.0            72  \\\n",
      "1                  completed      1961.0         NaN            na   \n",
      "2                       none      1958.0        90.0            95   \n",
      "3                       none      1967.0         NaN           NaN   \n",
      "4                       none      1989.0        76.0            78   \n",
      "...                      ...         ...         ...           ...   \n",
      "2235                     NaN         NaN         NaN           NaN   \n",
      "2236                     NaN         NaN         NaN           NaN   \n",
      "2237                     NaN         NaN         NaN           NaN   \n",
      "2238                     NaN         NaN         NaN           NaN   \n",
      "2239                     NaN         NaN         NaN           NaN   \n",
      "\n",
      "     writing score Dt_Admission College_Fees  \n",
      "0               74      6/16/14  $84,835.00   \n",
      "1                A      6/15/14  $57,091.00   \n",
      "2               93      5/13/14  $67,267.00   \n",
      "3               44   05-11-2014  $32,474.00   \n",
      "4               75   04-08-2014  $21,474.00   \n",
      "...            ...          ...          ...  \n",
      "2235           NaN          NaN          NaN  \n",
      "2236           NaN          NaN          NaN  \n",
      "2237           NaN          NaN          NaN  \n",
      "2238           NaN          NaN          NaN  \n",
      "2239           NaN          NaN          NaN  \n",
      "\n",
      "[2240 rows x 11 columns]\n"
     ]
    }
   ],
   "source": [
    "df"
   ]
  },
  {
   "cell_type": "code",
   "execution_count": 4,
   "id": "41a79210",
   "metadata": {},
   "outputs": [
    {
     "data": {
      "text/plain": [
       "13648"
      ]
     },
     "execution_count": 4,
     "metadata": {},
     "output_type": "execute_result"
    }
   ],
   "source": [
    "df.isnull().sum().sum()"
   ]
  },
  {
   "cell_type": "code",
   "execution_count": 5,
   "id": "bac9874c",
   "metadata": {},
   "outputs": [
    {
     "name": "stdout",
     "output_type": "stream",
     "text": [
      "      gender race/ethnicity parental level of education         lunch   \n",
      "0     female        group B           bachelor's degree      standard  \\\n",
      "1     female        group C                some college      standard   \n",
      "2     female        group B             master's degree      standard   \n",
      "3       male        group A          associate's degree  free/reduced   \n",
      "4       male        group C                some college      standard   \n",
      "...      ...            ...                         ...           ...   \n",
      "2235     NaN            NaN                         NaN           NaN   \n",
      "2236     NaN            NaN                         NaN           NaN   \n",
      "2237     NaN            NaN                         NaN           NaN   \n",
      "2238     NaN            NaN                         NaN           NaN   \n",
      "2239     NaN            NaN                         NaN           NaN   \n",
      "\n",
      "     test preparation course  Year_Birth  math score reading score   \n",
      "0                       none      1970.0        72.0            72  \\\n",
      "1                  completed      1961.0         NaN            na   \n",
      "2                       none      1958.0        90.0            95   \n",
      "3                       none      1967.0         NaN           NaN   \n",
      "4                       none      1989.0        76.0            78   \n",
      "...                      ...         ...         ...           ...   \n",
      "2235                     NaN         NaN         NaN           NaN   \n",
      "2236                     NaN         NaN         NaN           NaN   \n",
      "2237                     NaN         NaN         NaN           NaN   \n",
      "2238                     NaN         NaN         NaN           NaN   \n",
      "2239                     NaN         NaN         NaN           NaN   \n",
      "\n",
      "     writing score Dt_Admission College_Fees  \n",
      "0               74      6/16/14  $84,835.00   \n",
      "1                A      6/15/14  $57,091.00   \n",
      "2               93      5/13/14  $67,267.00   \n",
      "3               44   05-11-2014  $32,474.00   \n",
      "4               75   04-08-2014  $21,474.00   \n",
      "...            ...          ...          ...  \n",
      "2235           NaN          NaN          NaN  \n",
      "2236           NaN          NaN          NaN  \n",
      "2237           NaN          NaN          NaN  \n",
      "2238           NaN          NaN          NaN  \n",
      "2239           NaN          NaN          NaN  \n",
      "\n",
      "[2240 rows x 11 columns]\n"
     ]
    }
   ],
   "source": [
    "print(df)"
   ]
  },
  {
   "cell_type": "code",
   "execution_count": 6,
   "id": "851fc42a",
   "metadata": {},
   "outputs": [
    {
     "name": "stdout",
     "output_type": "stream",
     "text": [
      "0       72.0\n",
      "1        NaN\n",
      "2       90.0\n",
      "3        NaN\n",
      "4       76.0\n",
      "        ... \n",
      "2235     NaN\n",
      "2236     NaN\n",
      "2237     NaN\n",
      "2238     NaN\n",
      "2239     NaN\n",
      "Name: math score, Length: 2240, dtype: float64\n"
     ]
    }
   ],
   "source": [
    "print(df['math score'])"
   ]
  },
  {
   "cell_type": "code",
   "execution_count": 7,
   "id": "3ed503e9",
   "metadata": {},
   "outputs": [
    {
     "name": "stdout",
     "output_type": "stream",
     "text": [
      "0       False\n",
      "1        True\n",
      "2       False\n",
      "3        True\n",
      "4       False\n",
      "        ...  \n",
      "2235     True\n",
      "2236     True\n",
      "2237     True\n",
      "2238     True\n",
      "2239     True\n",
      "Name: math score, Length: 2240, dtype: bool\n"
     ]
    }
   ],
   "source": [
    "print(df['math score'].isnull())"
   ]
  },
  {
   "cell_type": "code",
   "execution_count": 8,
   "id": "7039e1af",
   "metadata": {},
   "outputs": [
    {
     "name": "stdout",
     "output_type": "stream",
     "text": [
      "0        72\n",
      "1        na\n",
      "2        95\n",
      "3       NaN\n",
      "4        78\n",
      "       ... \n",
      "2235    NaN\n",
      "2236    NaN\n",
      "2237    NaN\n",
      "2238    NaN\n",
      "2239    NaN\n",
      "Name: reading score, Length: 2240, dtype: object\n"
     ]
    }
   ],
   "source": [
    "print(df['reading score'])"
   ]
  },
  {
   "cell_type": "code",
   "execution_count": 9,
   "id": "d97dd92c",
   "metadata": {},
   "outputs": [
    {
     "name": "stdout",
     "output_type": "stream",
     "text": [
      "0       False\n",
      "1       False\n",
      "2       False\n",
      "3        True\n",
      "4       False\n",
      "        ...  \n",
      "2235     True\n",
      "2236     True\n",
      "2237     True\n",
      "2238     True\n",
      "2239     True\n",
      "Name: reading score, Length: 2240, dtype: bool\n"
     ]
    }
   ],
   "source": [
    "print(df['reading score'].isnull())"
   ]
  },
  {
   "cell_type": "code",
   "execution_count": 10,
   "id": "ed964981",
   "metadata": {},
   "outputs": [
    {
     "name": "stdout",
     "output_type": "stream",
     "text": [
      "0        74\n",
      "1         A\n",
      "2        93\n",
      "3        44\n",
      "4        75\n",
      "       ... \n",
      "2235    NaN\n",
      "2236    NaN\n",
      "2237    NaN\n",
      "2238    NaN\n",
      "2239    NaN\n",
      "Name: writing score, Length: 2240, dtype: object\n"
     ]
    }
   ],
   "source": [
    "print(df['writing score'])"
   ]
  },
  {
   "cell_type": "code",
   "execution_count": 11,
   "id": "a51c109b",
   "metadata": {},
   "outputs": [
    {
     "name": "stdout",
     "output_type": "stream",
     "text": [
      "0       False\n",
      "1       False\n",
      "2       False\n",
      "3        True\n",
      "4       False\n",
      "        ...  \n",
      "2235     True\n",
      "2236     True\n",
      "2237     True\n",
      "2238     True\n",
      "2239     True\n",
      "Name: reading score, Length: 2240, dtype: bool\n"
     ]
    }
   ],
   "source": [
    "print(df['reading score'].isnull())"
   ]
  },
  {
   "cell_type": "code",
   "execution_count": 12,
   "id": "f5d9b645",
   "metadata": {},
   "outputs": [],
   "source": [
    "df = df.dropna()"
   ]
  },
  {
   "cell_type": "code",
   "execution_count": 13,
   "id": "1f2a4513",
   "metadata": {},
   "outputs": [
    {
     "name": "stdout",
     "output_type": "stream",
     "text": [
      "     gender race/ethnicity parental level of education         lunch   \n",
      "0    female        group B           bachelor's degree      standard  \\\n",
      "2    female        group B             master's degree      standard   \n",
      "4      male        group C                some college      standard   \n",
      "5    female        group B          associate's degree      standard   \n",
      "6    female        group B                some college      standard   \n",
      "..      ...            ...                         ...           ...   \n",
      "995  female        group E             master's degree      standard   \n",
      "996    male        group C                 high school  free/reduced   \n",
      "997  female        group C                 high school  free/reduced   \n",
      "998  female        group D                some college      standard   \n",
      "999  female        group D                some college  free/reduced   \n",
      "\n",
      "    test preparation course  Year_Birth  math score reading score   \n",
      "0                      none      1970.0        72.0            72  \\\n",
      "2                      none      1958.0        90.0            95   \n",
      "4                      none      1989.0        76.0            78   \n",
      "5                      none      1958.0        71.0            83   \n",
      "6                 completed      1954.0        88.0            95   \n",
      "..                      ...         ...         ...           ...   \n",
      "995               completed      1972.0        88.0            99   \n",
      "996                    none      1972.0        62.0            55   \n",
      "997               completed      1972.0        59.0            71   \n",
      "998               completed      1972.0        68.0            78   \n",
      "999                    none      1972.0        77.0            86   \n",
      "\n",
      "    writing score Dt_Admission College_Fees  \n",
      "0              74      6/16/14  $84,835.00   \n",
      "2              93      5/13/14  $67,267.00   \n",
      "4              75   04-08-2014  $21,474.00   \n",
      "5              78      3/17/14  $71,691.00   \n",
      "6              92      1/29/14  $63,564.00   \n",
      "..            ...          ...          ...  \n",
      "995            95      8/24/12  $57,107.00   \n",
      "996            55      8/17/12  $76,467.00   \n",
      "997            65      5/27/14   $76,467.01  \n",
      "998            77      2/23/14  $51,315.00   \n",
      "999            86   01-10-2014  $43,602.00   \n",
      "\n",
      "[993 rows x 11 columns]\n"
     ]
    }
   ],
   "source": [
    "print(df)"
   ]
  },
  {
   "cell_type": "code",
   "execution_count": 14,
   "id": "5549e680",
   "metadata": {},
   "outputs": [],
   "source": [
    "df['Year_Birth'] = df['Year_Birth'].astype('str')"
   ]
  },
  {
   "cell_type": "code",
   "execution_count": 15,
   "id": "64047599",
   "metadata": {},
   "outputs": [
    {
     "data": {
      "text/plain": [
       "gender                          object\n",
       "race/ethnicity                  object\n",
       "parental level of education     object\n",
       "lunch                           object\n",
       "test preparation course         object\n",
       "Year_Birth                      object\n",
       "math score                     float64\n",
       "reading score                   object\n",
       "writing score                   object\n",
       "Dt_Admission                    object\n",
       "College_Fees                    object\n",
       "dtype: object"
      ]
     },
     "execution_count": 15,
     "metadata": {},
     "output_type": "execute_result"
    }
   ],
   "source": [
    "df.dtypes"
   ]
  },
  {
   "cell_type": "code",
   "execution_count": 16,
   "id": "ad0df0b2",
   "metadata": {},
   "outputs": [],
   "source": [
    "df['reading score'] = df['reading score'].astype(float)"
   ]
  },
  {
   "cell_type": "code",
   "execution_count": 17,
   "id": "6d910c10",
   "metadata": {},
   "outputs": [],
   "source": [
    "df['writing score'] = df['writing score'].astype(float)"
   ]
  },
  {
   "cell_type": "code",
   "execution_count": 18,
   "id": "ae082bee",
   "metadata": {},
   "outputs": [
    {
     "name": "stdout",
     "output_type": "stream",
     "text": [
      "     gender race/ethnicity parental level of education         lunch   \n",
      "0    female        group B           bachelor's degree      standard  \\\n",
      "2    female        group B             master's degree      standard   \n",
      "4      male        group C                some college      standard   \n",
      "5    female        group B          associate's degree      standard   \n",
      "6    female        group B                some college      standard   \n",
      "..      ...            ...                         ...           ...   \n",
      "995  female        group E             master's degree      standard   \n",
      "996    male        group C                 high school  free/reduced   \n",
      "997  female        group C                 high school  free/reduced   \n",
      "998  female        group D                some college      standard   \n",
      "999  female        group D                some college  free/reduced   \n",
      "\n",
      "    test preparation course Year_Birth  math score  reading score   \n",
      "0                      none     1970.0        72.0           72.0  \\\n",
      "2                      none     1958.0        90.0           95.0   \n",
      "4                      none     1989.0        76.0           78.0   \n",
      "5                      none     1958.0        71.0           83.0   \n",
      "6                 completed     1954.0        88.0           95.0   \n",
      "..                      ...        ...         ...            ...   \n",
      "995               completed     1972.0        88.0           99.0   \n",
      "996                    none     1972.0        62.0           55.0   \n",
      "997               completed     1972.0        59.0           71.0   \n",
      "998               completed     1972.0        68.0           78.0   \n",
      "999                    none     1972.0        77.0           86.0   \n",
      "\n",
      "     writing score Dt_Admission College_Fees  \n",
      "0             74.0      6/16/14  $84,835.00   \n",
      "2             93.0      5/13/14  $67,267.00   \n",
      "4             75.0   04-08-2014  $21,474.00   \n",
      "5             78.0      3/17/14  $71,691.00   \n",
      "6             92.0      1/29/14  $63,564.00   \n",
      "..             ...          ...          ...  \n",
      "995           95.0      8/24/12  $57,107.00   \n",
      "996           55.0      8/17/12  $76,467.00   \n",
      "997           65.0      5/27/14   $76,467.01  \n",
      "998           77.0      2/23/14  $51,315.00   \n",
      "999           86.0   01-10-2014  $43,602.00   \n",
      "\n",
      "[993 rows x 11 columns]\n"
     ]
    }
   ],
   "source": [
    "print(df)"
   ]
  },
  {
   "cell_type": "code",
   "execution_count": 19,
   "id": "311e6731",
   "metadata": {},
   "outputs": [
    {
     "data": {
      "text/plain": [
       "gender                          object\n",
       "race/ethnicity                  object\n",
       "parental level of education     object\n",
       "lunch                           object\n",
       "test preparation course         object\n",
       "Year_Birth                      object\n",
       "math score                     float64\n",
       "reading score                  float64\n",
       "writing score                  float64\n",
       "Dt_Admission                    object\n",
       "College_Fees                    object\n",
       "dtype: object"
      ]
     },
     "execution_count": 19,
     "metadata": {},
     "output_type": "execute_result"
    }
   ],
   "source": [
    "df.dtypes"
   ]
  },
  {
   "cell_type": "code",
   "execution_count": 20,
   "id": "06a385b7",
   "metadata": {},
   "outputs": [
    {
     "name": "stdout",
     "output_type": "stream",
     "text": [
      "Index(['math score', 'reading score', 'writing score'], dtype='object')\n"
     ]
    }
   ],
   "source": [
    "numeric_cols = df.select_dtypes(include=np.number).columns\n",
    "print(numeric_cols)"
   ]
  },
  {
   "cell_type": "code",
   "execution_count": 21,
   "id": "efb46d12",
   "metadata": {},
   "outputs": [
    {
     "name": "stdout",
     "output_type": "stream",
     "text": [
      "17     18.0\n",
      "59      0.0\n",
      "145    22.0\n",
      "338    24.0\n",
      "466    26.0\n",
      "787    19.0\n",
      "842    23.0\n",
      "980     8.0\n",
      "Name: math score, dtype: float64\n",
      "59     17.0\n",
      "76     26.0\n",
      "211    28.0\n",
      "327    23.0\n",
      "596    24.0\n",
      "980    24.0\n",
      "Name: reading score, dtype: float64\n",
      "59     10.0\n",
      "76     22.0\n",
      "327    19.0\n",
      "596    15.0\n",
      "980    23.0\n",
      "Name: writing score, dtype: float64\n"
     ]
    }
   ],
   "source": [
    "for col in numeric_cols:\n",
    "    Q1 = df[col].quantile(0.25)\n",
    "    Q3 = df[col].quantile(0.75)\n",
    "    IQR = Q3 - Q1\n",
    "    \n",
    "    lower_bound = Q1 - 1.5 * IQR\n",
    "    upper_bound = Q3 + 1.5 * IQR\n",
    "    \n",
    "    outliers = df[(df[col] < lower_bound) | (df[col] > upper_bound)][col]\n",
    "    print(outliers)\n",
    "    \n",
    "    if not outliers.empty:\n",
    "        df[col] = np.where((df[col] < lower_bound) | (df[col] > upper_bound), df[col].median(), df[col])"
   ]
  },
  {
   "cell_type": "code",
   "execution_count": 22,
   "id": "d5d64a4c",
   "metadata": {},
   "outputs": [
    {
     "data": {
      "text/plain": [
       "(993, 11)"
      ]
     },
     "execution_count": 22,
     "metadata": {},
     "output_type": "execute_result"
    }
   ],
   "source": [
    "df.shape"
   ]
  },
  {
   "cell_type": "code",
   "execution_count": 23,
   "id": "928b75ac",
   "metadata": {},
   "outputs": [
    {
     "data": {
      "text/plain": [
       "gender                                     male\n",
       "race/ethnicity                          group A\n",
       "parental level of education    some high school\n",
       "lunch                              free/reduced\n",
       "test preparation course                    none\n",
       "Year_Birth                               1961.0\n",
       "math score                                 39.0\n",
       "reading score                              39.0\n",
       "writing score                              34.0\n",
       "Dt_Admission                           11/15/13\n",
       "College_Fees                        $48,330.00 \n",
       "Name: 61, dtype: object"
      ]
     },
     "execution_count": 23,
     "metadata": {},
     "output_type": "execute_result"
    }
   ],
   "source": [
    "df.iloc[59]"
   ]
  },
  {
   "cell_type": "code",
   "execution_count": 24,
   "id": "39201607",
   "metadata": {},
   "outputs": [],
   "source": [
    "from datetime import date\n",
    "df['age'] = date.today().year - df['Year_Birth'].astype(float)"
   ]
  },
  {
   "cell_type": "code",
   "execution_count": 25,
   "id": "438878c3",
   "metadata": {},
   "outputs": [],
   "source": [
    "df['Year'] = pd.DatetimeIndex(df['Dt_Admission']).year\n",
    "df['E_L'] = date.today().year - df['Year']"
   ]
  },
  {
   "cell_type": "code",
   "execution_count": 26,
   "id": "f95a30e2",
   "metadata": {},
   "outputs": [
    {
     "name": "stdout",
     "output_type": "stream",
     "text": [
      "     gender race/ethnicity parental level of education         lunch   \n",
      "0    female        group B           bachelor's degree      standard  \\\n",
      "2    female        group B             master's degree      standard   \n",
      "4      male        group C                some college      standard   \n",
      "5    female        group B          associate's degree      standard   \n",
      "6    female        group B                some college      standard   \n",
      "..      ...            ...                         ...           ...   \n",
      "995  female        group E             master's degree      standard   \n",
      "996    male        group C                 high school  free/reduced   \n",
      "997  female        group C                 high school  free/reduced   \n",
      "998  female        group D                some college      standard   \n",
      "999  female        group D                some college  free/reduced   \n",
      "\n",
      "    test preparation course Year_Birth  math score  reading score   \n",
      "0                      none     1970.0        72.0           72.0  \\\n",
      "2                      none     1958.0        90.0           95.0   \n",
      "4                      none     1989.0        76.0           78.0   \n",
      "5                      none     1958.0        71.0           83.0   \n",
      "6                 completed     1954.0        88.0           95.0   \n",
      "..                      ...        ...         ...            ...   \n",
      "995               completed     1972.0        88.0           99.0   \n",
      "996                    none     1972.0        62.0           55.0   \n",
      "997               completed     1972.0        59.0           71.0   \n",
      "998               completed     1972.0        68.0           78.0   \n",
      "999                    none     1972.0        77.0           86.0   \n",
      "\n",
      "     writing score Dt_Admission College_Fees   age  Year  E_L  \n",
      "0             74.0      6/16/14  $84,835.00   53.0  2014    9  \n",
      "2             93.0      5/13/14  $67,267.00   65.0  2014    9  \n",
      "4             75.0   04-08-2014  $21,474.00   34.0  2014    9  \n",
      "5             78.0      3/17/14  $71,691.00   65.0  2014    9  \n",
      "6             92.0      1/29/14  $63,564.00   69.0  2014    9  \n",
      "..             ...          ...          ...   ...   ...  ...  \n",
      "995           95.0      8/24/12  $57,107.00   51.0  2012   11  \n",
      "996           55.0      8/17/12  $76,467.00   51.0  2012   11  \n",
      "997           65.0      5/27/14   $76,467.01  51.0  2014    9  \n",
      "998           77.0      2/23/14  $51,315.00   51.0  2014    9  \n",
      "999           86.0   01-10-2014  $43,602.00   51.0  2014    9  \n",
      "\n",
      "[993 rows x 14 columns]\n"
     ]
    }
   ],
   "source": [
    "print(df)"
   ]
  }
 ],
 "metadata": {
  "kernelspec": {
   "display_name": "Python 3 (ipykernel)",
   "language": "python",
   "name": "python3"
  },
  "language_info": {
   "codemirror_mode": {
    "name": "ipython",
    "version": 3
   },
   "file_extension": ".py",
   "mimetype": "text/x-python",
   "name": "python",
   "nbconvert_exporter": "python",
   "pygments_lexer": "ipython3",
   "version": "3.11.3"
  }
 },
 "nbformat": 4,
 "nbformat_minor": 5
}

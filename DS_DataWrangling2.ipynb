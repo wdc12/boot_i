{
 "cells": [
  {
   "cell_type": "code",
   "execution_count": null,
   "id": "2309cf3a",
   "metadata": {},
   "outputs": [],
   "source": [
    "import pandas as pd\n",
    "import numpy as np"
   ]
  },
  {
   "cell_type": "code",
   "execution_count": null,
   "id": "8b6d5ddb",
   "metadata": {},
   "outputs": [],
   "source": [
    "df = pd.read_csv(r\"C:\\Users\\patil\\OneDrive\\Desktop\\Third Year\\Practicals\\AcademicPerformance.csv\")"
   ]
  },
  {
   "cell_type": "code",
   "execution_count": null,
   "id": "32893bad",
   "metadata": {},
   "outputs": [],
   "source": [
    "print(df)"
   ]
  },
  {
   "cell_type": "code",
   "execution_count": null,
   "id": "566e12a1",
   "metadata": {},
   "outputs": [],
   "source": [
    "df.isnull().sum().sum()"
   ]
  },
  {
   "cell_type": "code",
   "execution_count": null,
   "id": "0a2f2962",
   "metadata": {},
   "outputs": [],
   "source": [
    "print(df)"
   ]
  },
  {
   "cell_type": "code",
   "execution_count": null,
   "id": "5ede3d35",
   "metadata": {},
   "outputs": [],
   "source": [
    "print(df['math score'])"
   ]
  },
  {
   "cell_type": "code",
   "execution_count": null,
   "id": "cb5cc0e4",
   "metadata": {},
   "outputs": [],
   "source": [
    "print(df['math score'].isnull())"
   ]
  },
  {
   "cell_type": "code",
   "execution_count": null,
   "id": "1abda6ba",
   "metadata": {},
   "outputs": [],
   "source": [
    "print(df['reading score'])"
   ]
  },
  {
   "cell_type": "code",
   "execution_count": null,
   "id": "ad4a48c1",
   "metadata": {},
   "outputs": [],
   "source": [
    "print(df['reading score'].isnull())"
   ]
  },
  {
   "cell_type": "code",
   "execution_count": null,
   "id": "39c1a635",
   "metadata": {},
   "outputs": [],
   "source": [
    "print(df['writing score'])"
   ]
  },
  {
   "cell_type": "code",
   "execution_count": null,
   "id": "f6f4831b",
   "metadata": {},
   "outputs": [],
   "source": [
    "print(df['reading score'].isnull())"
   ]
  },
  {
   "cell_type": "code",
   "execution_count": null,
   "id": "5ffd63bc",
   "metadata": {},
   "outputs": [],
   "source": [
    "df = df.dropna()"
   ]
  },
  {
   "cell_type": "code",
   "execution_count": null,
   "id": "ee9d4396",
   "metadata": {},
   "outputs": [],
   "source": [
    "print(df)"
   ]
  },
  {
   "cell_type": "code",
   "execution_count": null,
   "id": "3bc96d52",
   "metadata": {},
   "outputs": [],
   "source": [
    "df['Year_Birth'] = df['Year_Birth'].astype('str')"
   ]
  },
  {
   "cell_type": "code",
   "execution_count": null,
   "id": "ba8084f6",
   "metadata": {},
   "outputs": [],
   "source": [
    "df.dtypes"
   ]
  },
  {
   "cell_type": "code",
   "execution_count": null,
   "id": "7b14ca91",
   "metadata": {},
   "outputs": [],
   "source": [
    "df['reading score'] = df['reading score'].astype(float)"
   ]
  },
  {
   "cell_type": "code",
   "execution_count": null,
   "id": "646f7fcc",
   "metadata": {},
   "outputs": [],
   "source": [
    "df['writing score'] = df['writing score'].astype(float)"
   ]
  },
  {
   "cell_type": "code",
   "execution_count": null,
   "id": "5283326d",
   "metadata": {},
   "outputs": [],
   "source": [
    "print(df)"
   ]
  },
  {
   "cell_type": "code",
   "execution_count": null,
   "id": "1a058c2e",
   "metadata": {},
   "outputs": [],
   "source": [
    "df.dtypes"
   ]
  },
  {
   "cell_type": "code",
   "execution_count": null,
   "id": "8c928be9",
   "metadata": {},
   "outputs": [],
   "source": [
    "numeric_cols = df.select_dtypes(include=np.number).columns\n",
    "print(numeric_cols)"
   ]
  },
  {
   "cell_type": "code",
   "execution_count": null,
   "id": "99e31dc6",
   "metadata": {},
   "outputs": [],
   "source": [
    "for col in numeric_cols:\n",
    "    Q1 = df[col].quantile(0.25)\n",
    "    Q3 = df[col].quantile(0.75)\n",
    "    IQR = Q3 - Q1\n",
    "    \n",
    "    lower_bound = Q1 - 1.5 * IQR\n",
    "    upper_bound = Q3 + 1.5 * IQR\n",
    "    \n",
    "    outliers = df[(df[col] < lower_bound) | (df[col] > upper_bound)][col]\n",
    "    print(outliers)\n",
    "    \n",
    "    if not outliers.empty:\n",
    "        df[col] = np.where((df[col] < lower_bound) | (df[col] > upper_bound), df[col].median(), df[col])"
   ]
  },
  {
   "cell_type": "code",
   "execution_count": null,
   "id": "619568a4",
   "metadata": {},
   "outputs": [],
   "source": [
    "df.shape"
   ]
  },
  {
   "cell_type": "code",
   "execution_count": null,
   "id": "3031b612",
   "metadata": {},
   "outputs": [],
   "source": [
    "df.iloc[59]"
   ]
  },
  {
   "cell_type": "code",
   "execution_count": null,
   "id": "28dcb44a",
   "metadata": {},
   "outputs": [],
   "source": [
    "from datetime import date\n",
    "df['age'] = date.today().year - df['Year_Birth'].astype(float)"
   ]
  },
  {
   "cell_type": "code",
   "execution_count": null,
   "id": "26f311aa",
   "metadata": {},
   "outputs": [],
   "source": [
    "df['Year'] = pd.DatetimeIndex(df['Dt_Admission']).year\n",
    "df['E_L'] = date.today().year - df['Year']"
   ]
  },
  {
   "cell_type": "code",
   "execution_count": null,
   "id": "fa0b9196",
   "metadata": {},
   "outputs": [],
   "source": [
    "print(df)"
   ]
  }
 ],
 "metadata": {
  "kernelspec": {
   "display_name": "Python 3 (ipykernel)",
   "language": "python",
   "name": "python3"
  },
  "language_info": {
   "codemirror_mode": {
    "name": "ipython",
    "version": 3
   },
   "file_extension": ".py",
   "mimetype": "text/x-python",
   "name": "python",
   "nbconvert_exporter": "python",
   "pygments_lexer": "ipython3",
   "version": "3.11.3"
  }
 },
 "nbformat": 4,
 "nbformat_minor": 5
}

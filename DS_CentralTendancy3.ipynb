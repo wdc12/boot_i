{
 "cells": [
  {
   "cell_type": "code",
   "execution_count": null,
   "id": "b6335765",
   "metadata": {},
   "outputs": [],
   "source": [
    "import numpy as np"
   ]
  },
  {
   "cell_type": "code",
   "execution_count": null,
   "id": "cb7caf85",
   "metadata": {},
   "outputs": [],
   "source": [
    "speed = [99, 86, 87, 88, 111, 86, 103, 87, 94, 78, 77, 85, 86]\n",
    "print(np.mean(speed))"
   ]
  },
  {
   "cell_type": "code",
   "execution_count": null,
   "id": "f5c4ae3a",
   "metadata": {},
   "outputs": [],
   "source": [
    "print(np.median(speed))"
   ]
  },
  {
   "cell_type": "code",
   "execution_count": null,
   "id": "89a9102f",
   "metadata": {},
   "outputs": [],
   "source": [
    "speed = [99, 86, 87, 88, 111, 86, 103, 87, 94, 78, 77, 85]\n",
    "print(np.median(speed))"
   ]
  },
  {
   "cell_type": "code",
   "execution_count": null,
   "id": "2648a34d",
   "metadata": {},
   "outputs": [],
   "source": [
    "from scipy import stats"
   ]
  },
  {
   "cell_type": "code",
   "execution_count": null,
   "id": "09cee052",
   "metadata": {},
   "outputs": [],
   "source": [
    "print(stats.mode(speed)[0][0])"
   ]
  },
  {
   "cell_type": "code",
   "execution_count": null,
   "id": "1dae7052",
   "metadata": {},
   "outputs": [],
   "source": [
    "nums = [1, 2, 3, 4, 5]\n",
    "n = len(nums)\n",
    "\n",
    "get_sum = sum(nums)\n",
    "mean = get_sum / n\n",
    "\n",
    "print(\"Mean / Average is: \" + str(mean))"
   ]
  },
  {
   "cell_type": "code",
   "execution_count": null,
   "id": "8696041e",
   "metadata": {},
   "outputs": [],
   "source": [
    "nums = [1, 2, 3, 4, 5, 6]\n",
    "n = len(nums)\n",
    "nums.sort()\n",
    "\n",
    "if n % 2 == 0:\n",
    "    mid1 = nums[n // 2]\n",
    "    mid2 = nums[n // 2 - 1]\n",
    "    median = (mid1 + mid2) / 2\n",
    "else:\n",
    "    median = nums[n // 2]\n",
    "    \n",
    "print(\"Median is: \" + str(median))"
   ]
  },
  {
   "cell_type": "code",
   "execution_count": null,
   "id": "3b2f4563",
   "metadata": {},
   "outputs": [],
   "source": [
    "from collections import Counter\n",
    "\n",
    "nums = [1, 2, 3, 3, 4, 4, 5]\n",
    "n = len(nums)\n",
    "nums.sort()\n",
    "\n",
    "counter = dict(Counter(nums))\n",
    "mode = [k for k, v in counter.items() if v == max(list(counter.values()))]\n",
    "\n",
    "if len(mode) == n:\n",
    "    get_mode = 'No mode found'\n",
    "else:\n",
    "    get_mode = 'Mode/s is/are: ' + ', '.join(map(str, mode))\n",
    "    \n",
    "print(get_mode)"
   ]
  },
  {
   "cell_type": "code",
   "execution_count": null,
   "id": "aa28eec4",
   "metadata": {},
   "outputs": [],
   "source": [
    "import pandas as pd\n",
    "\n",
    "df = pd.DataFrame({'A' : ['a', 'b', 'c', 'c', 'a', 'b'],\n",
    "                   'B' : [0, 1, 1, 0, 1, 0]}, dtype = \"category\")\n",
    "df.dtypes"
   ]
  },
  {
   "cell_type": "code",
   "execution_count": null,
   "id": "640f3590",
   "metadata": {},
   "outputs": [],
   "source": [
    "print(df)\n",
    "\n",
    "print(df.groupby(['A']). count().reset_index())"
   ]
  },
  {
   "cell_type": "code",
   "execution_count": null,
   "id": "1b4ab3fb",
   "metadata": {},
   "outputs": [],
   "source": [
    "import pandas as pd\n",
    "\n",
    "df = pd.DataFrame({'A' : ['a', 'b', 'c', 'c', 'a', 'b'],\n",
    "                   'B' : [0, 1, 1, 0, 1, 0],\n",
    "                   'C' : [7, 8, 9, 5, 3, 6]})\n",
    "\n",
    "df['A'] = df['A'].astype('category')\n",
    "\n",
    "print(df)\n",
    "\n",
    "print(df.groupby(['A', 'B']).mean().reset_index())"
   ]
  },
  {
   "cell_type": "code",
   "execution_count": null,
   "id": "01d01b93",
   "metadata": {},
   "outputs": [],
   "source": [
    "import pandas as pd\n",
    "\n",
    "df = pd.read_csv(r\"C:\\Users\\OneDrive\\Desktop\\Third Year\\Practicals\\Iris.csv\")\n",
    "\n",
    "print('Iris-setosa')\n",
    "setosa = df['Species'] == 'Iris-setosa'\n",
    "print(df[setosa].describe())\n",
    "\n",
    "print('\\nIris-versicolor')\n",
    "versicolor = df['Species'] == 'Iris-versicolor'\n",
    "print(df[versicolor].describe())\n",
    "\n",
    "print('\\nIris-virginica')\n",
    "virginica = df['Species'] == 'Iris-virginica'\n",
    "print(df[virginica].describe())"
   ]
  }
 ],
 "metadata": {
  "kernelspec": {
   "display_name": "Python 3 (ipykernel)",
   "language": "python",
   "name": "python3"
  },
  "language_info": {
   "codemirror_mode": {
    "name": "ipython",
    "version": 3
   },
   "file_extension": ".py",
   "mimetype": "text/x-python",
   "name": "python",
   "nbconvert_exporter": "python",
   "pygments_lexer": "ipython3",
   "version": "3.11.3"
  }
 },
 "nbformat": 4,
 "nbformat_minor": 5
}

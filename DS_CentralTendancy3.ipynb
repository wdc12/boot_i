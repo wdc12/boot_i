{
 "cells": [
  {
   "cell_type": "code",
   "execution_count": 1,
   "id": "29a1e478",
   "metadata": {},
   "outputs": [],
   "source": [
    "import numpy as np\n",
    "import warnings\n",
    "warnings.filterwarnings('ignore')"
   ]
  },
  {
   "cell_type": "code",
   "execution_count": 2,
   "id": "4038e923",
   "metadata": {},
   "outputs": [
    {
     "name": "stdout",
     "output_type": "stream",
     "text": [
      "89.76923076923077\n"
     ]
    }
   ],
   "source": [
    "speed = [99, 86, 87, 88, 111, 86, 103, 87, 94, 78, 77, 85, 86]\n",
    "print(np.mean(speed))"
   ]
  },
  {
   "cell_type": "code",
   "execution_count": 3,
   "id": "66e42e18",
   "metadata": {},
   "outputs": [
    {
     "name": "stdout",
     "output_type": "stream",
     "text": [
      "87.0\n"
     ]
    }
   ],
   "source": [
    "print(np.median(speed))"
   ]
  },
  {
   "cell_type": "code",
   "execution_count": 4,
   "id": "63c78e9c",
   "metadata": {},
   "outputs": [
    {
     "name": "stdout",
     "output_type": "stream",
     "text": [
      "87.0\n"
     ]
    }
   ],
   "source": [
    "speed = [99, 86, 87, 88, 111, 86, 103, 87, 94, 78, 77, 85]\n",
    "print(np.median(speed))"
   ]
  },
  {
   "cell_type": "code",
   "execution_count": 5,
   "id": "1edd463b",
   "metadata": {},
   "outputs": [],
   "source": [
    "from scipy import stats"
   ]
  },
  {
   "cell_type": "code",
   "execution_count": 6,
   "id": "4e7db2f0",
   "metadata": {},
   "outputs": [
    {
     "name": "stdout",
     "output_type": "stream",
     "text": [
      "86\n"
     ]
    }
   ],
   "source": [
    "print(stats.mode(speed)[0][0])"
   ]
  },
  {
   "cell_type": "code",
   "execution_count": 7,
   "id": "34070fa9",
   "metadata": {},
   "outputs": [
    {
     "name": "stdout",
     "output_type": "stream",
     "text": [
      "Mean / Average is: 3.0\n"
     ]
    }
   ],
   "source": [
    "nums = [1, 2, 3, 4, 5]\n",
    "n = len(nums)\n",
    "\n",
    "get_sum = sum(nums)\n",
    "mean = get_sum / n\n",
    "\n",
    "print(\"Mean / Average is: \" + str(mean))"
   ]
  },
  {
   "cell_type": "code",
   "execution_count": 8,
   "id": "2e042c92",
   "metadata": {},
   "outputs": [
    {
     "name": "stdout",
     "output_type": "stream",
     "text": [
      "Median is: 3.5\n"
     ]
    }
   ],
   "source": [
    "nums = [1, 2, 3, 4, 5, 6]\n",
    "n = len(nums)\n",
    "nums.sort()\n",
    "\n",
    "if n % 2 == 0:\n",
    "    mid1 = nums[n // 2]\n",
    "    mid2 = nums[n // 2 - 1]\n",
    "    median = (mid1 + mid2) / 2\n",
    "else:\n",
    "    median = nums[n // 2]\n",
    "    \n",
    "print(\"Median is: \" + str(median))"
   ]
  },
  {
   "cell_type": "code",
   "execution_count": 9,
   "id": "0fe18e3e",
   "metadata": {},
   "outputs": [
    {
     "name": "stdout",
     "output_type": "stream",
     "text": [
      "Mode/s is/are: 3, 4\n"
     ]
    }
   ],
   "source": [
    "from collections import Counter\n",
    "\n",
    "nums = [1, 2, 3, 3, 4, 4, 5]\n",
    "n = len(nums)\n",
    "nums.sort()\n",
    "\n",
    "counter = dict(Counter(nums))\n",
    "mode = [k for k, v in counter.items() if v == max(list(counter.values()))]\n",
    "\n",
    "if len(mode) == n:\n",
    "    get_mode = 'No mode found'\n",
    "else:\n",
    "    get_mode = 'Mode/s is/are: ' + ', '.join(map(str, mode))\n",
    "    \n",
    "print(get_mode)"
   ]
  },
  {
   "cell_type": "code",
   "execution_count": 10,
   "id": "1b3d9e27",
   "metadata": {},
   "outputs": [
    {
     "data": {
      "text/plain": [
       "A    category\n",
       "B    category\n",
       "dtype: object"
      ]
     },
     "execution_count": 10,
     "metadata": {},
     "output_type": "execute_result"
    }
   ],
   "source": [
    "import pandas as pd\n",
    "\n",
    "df = pd.DataFrame({'A' : ['a', 'b', 'c', 'c', 'a', 'b'],\n",
    "                   'B' : [0, 1, 1, 0, 1, 0]}, dtype = \"category\")\n",
    "df.dtypes"
   ]
  },
  {
   "cell_type": "code",
   "execution_count": 11,
   "id": "bc619892",
   "metadata": {},
   "outputs": [
    {
     "name": "stdout",
     "output_type": "stream",
     "text": [
      "   A  B\n",
      "0  a  0\n",
      "1  b  1\n",
      "2  c  1\n",
      "3  c  0\n",
      "4  a  1\n",
      "5  b  0\n",
      "   A  B\n",
      "0  a  2\n",
      "1  b  2\n",
      "2  c  2\n"
     ]
    }
   ],
   "source": [
    "print(df)\n",
    "\n",
    "print(df.groupby(['A']). count().reset_index())"
   ]
  },
  {
   "cell_type": "code",
   "execution_count": 12,
   "id": "433da457",
   "metadata": {},
   "outputs": [
    {
     "name": "stdout",
     "output_type": "stream",
     "text": [
      "   A  B  C\n",
      "0  a  0  7\n",
      "1  b  1  8\n",
      "2  c  1  9\n",
      "3  c  0  5\n",
      "4  a  1  3\n",
      "5  b  0  6\n",
      "   A  B    C\n",
      "0  a  0  7.0\n",
      "1  a  1  3.0\n",
      "2  b  0  6.0\n",
      "3  b  1  8.0\n",
      "4  c  0  5.0\n",
      "5  c  1  9.0\n"
     ]
    }
   ],
   "source": [
    "import pandas as pd\n",
    "\n",
    "df = pd.DataFrame({'A' : ['a', 'b', 'c', 'c', 'a', 'b'],\n",
    "                   'B' : [0, 1, 1, 0, 1, 0],\n",
    "                   'C' : [7, 8, 9, 5, 3, 6]})\n",
    "\n",
    "df['A'] = df['A'].astype('category')\n",
    "\n",
    "print(df)\n",
    "\n",
    "print(df.groupby(['A', 'B']).mean().reset_index())"
   ]
  },
  {
   "cell_type": "code",
   "execution_count": 13,
   "id": "c99b036e",
   "metadata": {},
   "outputs": [
    {
     "name": "stdout",
     "output_type": "stream",
     "text": [
      "Iris-setosa\n",
      "             Id  SepalLengthCm  SepalWidthCm  PetalLengthCm  PetalWidthCm\n",
      "count  50.00000       50.00000     50.000000      50.000000      50.00000\n",
      "mean   25.50000        5.00600      3.418000       1.464000       0.24400\n",
      "std    14.57738        0.35249      0.381024       0.173511       0.10721\n",
      "min     1.00000        4.30000      2.300000       1.000000       0.10000\n",
      "25%    13.25000        4.80000      3.125000       1.400000       0.20000\n",
      "50%    25.50000        5.00000      3.400000       1.500000       0.20000\n",
      "75%    37.75000        5.20000      3.675000       1.575000       0.30000\n",
      "max    50.00000        5.80000      4.400000       1.900000       0.60000\n",
      "\n",
      "Iris-versicolor\n",
      "              Id  SepalLengthCm  SepalWidthCm  PetalLengthCm  PetalWidthCm\n",
      "count   50.00000      50.000000     50.000000      50.000000     50.000000\n",
      "mean    75.50000       5.936000      2.770000       4.260000      1.326000\n",
      "std     14.57738       0.516171      0.313798       0.469911      0.197753\n",
      "min     51.00000       4.900000      2.000000       3.000000      1.000000\n",
      "25%     63.25000       5.600000      2.525000       4.000000      1.200000\n",
      "50%     75.50000       5.900000      2.800000       4.350000      1.300000\n",
      "75%     87.75000       6.300000      3.000000       4.600000      1.500000\n",
      "max    100.00000       7.000000      3.400000       5.100000      1.800000\n",
      "\n",
      "Iris-virginica\n",
      "              Id  SepalLengthCm  SepalWidthCm  PetalLengthCm  PetalWidthCm\n",
      "count   50.00000       50.00000     50.000000      50.000000      50.00000\n",
      "mean   125.50000        6.58800      2.974000       5.552000       2.02600\n",
      "std     14.57738        0.63588      0.322497       0.551895       0.27465\n",
      "min    101.00000        4.90000      2.200000       4.500000       1.40000\n",
      "25%    113.25000        6.22500      2.800000       5.100000       1.80000\n",
      "50%    125.50000        6.50000      3.000000       5.550000       2.00000\n",
      "75%    137.75000        6.90000      3.175000       5.875000       2.30000\n",
      "max    150.00000        7.90000      3.800000       6.900000       2.50000\n"
     ]
    }
   ],
   "source": [
    "import pandas as pd\n",
    "\n",
    "df = pd.read_csv(r\"/home/Iris.csv\")\n",
    "\n",
    "print('Iris-setosa')\n",
    "setosa = df['Species'] == 'Iris-setosa'\n",
    "print(df[setosa].describe())\n",
    "\n",
    "print('\\nIris-versicolor')\n",
    "versicolor = df['Species'] == 'Iris-versicolor'\n",
    "print(df[versicolor].describe())\n",
    "\n",
    "print('\\nIris-virginica')\n",
    "virginica = df['Species'] == 'Iris-virginica'\n",
    "print(df[virginica].describe())"
   ]
  }
 ],
 "metadata": {
  "kernelspec": {
   "display_name": "Python 3 (ipykernel)",
   "language": "python",
   "name": "python3"
  },
  "language_info": {
   "codemirror_mode": {
    "name": "ipython",
    "version": 3
   },
   "file_extension": ".py",
   "mimetype": "text/x-python",
   "name": "python",
   "nbconvert_exporter": "python",
   "pygments_lexer": "ipython3",
   "version": "3.11.3"
  }
 },
 "nbformat": 4,
 "nbformat_minor": 5
}
